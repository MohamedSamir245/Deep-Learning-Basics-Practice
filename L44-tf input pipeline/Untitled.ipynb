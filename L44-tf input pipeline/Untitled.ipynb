{
 "cells": [
  {
   "cell_type": "code",
   "execution_count": 1,
   "id": "32c5609e-adee-4527-9942-c287c6e8e3a1",
   "metadata": {},
   "outputs": [],
   "source": [
    "import tensorflow as tf"
   ]
  },
  {
   "cell_type": "code",
   "execution_count": 2,
   "id": "d86861cd-8e0e-4638-acf2-b71da821ed0c",
   "metadata": {},
   "outputs": [],
   "source": [
    "daily_sales_numbers=[21,22,-108,31,-1,32,34,31]"
   ]
  },
  {
   "cell_type": "code",
   "execution_count": 3,
   "id": "68c9a529-27cd-4807-8ae6-c3ca332b7fa2",
   "metadata": {},
   "outputs": [
    {
     "data": {
      "text/plain": [
       "<TensorSliceDataset element_spec=TensorSpec(shape=(), dtype=tf.int32, name=None)>"
      ]
     },
     "execution_count": 3,
     "metadata": {},
     "output_type": "execute_result"
    }
   ],
   "source": [
    "tf_dataset=tf.data.Dataset.from_tensor_slices(daily_sales_numbers)\n",
    "tf_dataset"
   ]
  },
  {
   "cell_type": "code",
   "execution_count": 4,
   "id": "c68a75d0-cd59-44e8-a05c-a7ede070d892",
   "metadata": {},
   "outputs": [
    {
     "name": "stdout",
     "output_type": "stream",
     "text": [
      "tf.Tensor(21, shape=(), dtype=int32)\n",
      "tf.Tensor(22, shape=(), dtype=int32)\n",
      "tf.Tensor(-108, shape=(), dtype=int32)\n",
      "tf.Tensor(31, shape=(), dtype=int32)\n",
      "tf.Tensor(-1, shape=(), dtype=int32)\n",
      "tf.Tensor(32, shape=(), dtype=int32)\n",
      "tf.Tensor(34, shape=(), dtype=int32)\n",
      "tf.Tensor(31, shape=(), dtype=int32)\n"
     ]
    }
   ],
   "source": [
    "for sales in tf_dataset:\n",
    "    print(sales)"
   ]
  },
  {
   "cell_type": "code",
   "execution_count": 5,
   "id": "6eb861b8-5cee-4d89-a20d-59dfbb433639",
   "metadata": {},
   "outputs": [
    {
     "name": "stdout",
     "output_type": "stream",
     "text": [
      "21\n",
      "22\n",
      "-108\n",
      "31\n",
      "-1\n",
      "32\n",
      "34\n",
      "31\n"
     ]
    }
   ],
   "source": [
    "for sales in tf_dataset:\n",
    "    print(sales.numpy())"
   ]
  },
  {
   "cell_type": "code",
   "execution_count": 6,
   "id": "60cd1376-6fb5-4ac4-a5e5-85510443ac54",
   "metadata": {},
   "outputs": [
    {
     "name": "stdout",
     "output_type": "stream",
     "text": [
      "21\n",
      "22\n",
      "-108\n",
      "31\n",
      "-1\n",
      "32\n",
      "34\n",
      "31\n"
     ]
    }
   ],
   "source": [
    "for sales in tf_dataset.as_numpy_iterator():\n",
    "    print(sales)"
   ]
  },
  {
   "cell_type": "code",
   "execution_count": 7,
   "id": "a8b4791b-e34a-4f13-91f6-e449e85e26d7",
   "metadata": {},
   "outputs": [
    {
     "name": "stdout",
     "output_type": "stream",
     "text": [
      "21\n",
      "22\n",
      "-108\n"
     ]
    }
   ],
   "source": [
    "for sales in tf_dataset.take(3):\n",
    "    print(sales.numpy())"
   ]
  },
  {
   "cell_type": "code",
   "execution_count": 8,
   "id": "5fff3809-af23-439e-a394-7007e256f7b2",
   "metadata": {},
   "outputs": [],
   "source": [
    "tf_dataset=tf_dataset.filter(lambda x:x>0)"
   ]
  },
  {
   "cell_type": "code",
   "execution_count": 9,
   "id": "d9c72cac-fc9c-4719-9404-560a4ae7f053",
   "metadata": {},
   "outputs": [
    {
     "name": "stdout",
     "output_type": "stream",
     "text": [
      "21\n",
      "22\n",
      "31\n",
      "32\n",
      "34\n",
      "31\n"
     ]
    }
   ],
   "source": [
    "for sales in tf_dataset.as_numpy_iterator():\n",
    "    print(sales)"
   ]
  },
  {
   "cell_type": "code",
   "execution_count": 10,
   "id": "5f1e579d-d1be-463e-b554-0d8f9b795e53",
   "metadata": {},
   "outputs": [],
   "source": [
    "tf_dataset=tf_dataset.map(lambda x:x*72)"
   ]
  },
  {
   "cell_type": "code",
   "execution_count": 11,
   "id": "cdf1b7d9-e694-4ee0-91ef-b5f1b650734b",
   "metadata": {},
   "outputs": [
    {
     "name": "stdout",
     "output_type": "stream",
     "text": [
      "1512\n",
      "1584\n",
      "2232\n",
      "2304\n",
      "2448\n",
      "2232\n"
     ]
    }
   ],
   "source": [
    "for sales in tf_dataset.as_numpy_iterator():\n",
    "    print(sales)"
   ]
  },
  {
   "cell_type": "code",
   "execution_count": 13,
   "id": "9119013c-a0d8-4f7c-862f-5e059468e3ad",
   "metadata": {},
   "outputs": [
    {
     "name": "stdout",
     "output_type": "stream",
     "text": [
      "2232\n",
      "1512\n",
      "2232\n",
      "2304\n",
      "1584\n",
      "2448\n"
     ]
    }
   ],
   "source": [
    "tf_dataset=tf_dataset.shuffle(3)\n",
    "for sales in tf_dataset.as_numpy_iterator():\n",
    "    print(sales)"
   ]
  },
  {
   "cell_type": "code",
   "execution_count": 15,
   "id": "f43f6fc8-f301-4abd-88fa-89504345d5f8",
   "metadata": {},
   "outputs": [
    {
     "name": "stdout",
     "output_type": "stream",
     "text": [
      "[2232 1584]\n",
      "[2448 2232]\n",
      "[1512 2304]\n"
     ]
    }
   ],
   "source": [
    "for sales_batch in tf_dataset.batch(2):\n",
    "    print(sales_batch.numpy())"
   ]
  },
  {
   "cell_type": "code",
   "execution_count": 16,
   "id": "edb12f58-5539-44fd-8c3e-381de180048f",
   "metadata": {},
   "outputs": [
    {
     "data": {
      "text/plain": [
       "<TensorSliceDataset element_spec=TensorSpec(shape=(), dtype=tf.int32, name=None)>"
      ]
     },
     "execution_count": 16,
     "metadata": {},
     "output_type": "execute_result"
    }
   ],
   "source": [
    "tf_dataset2=tf.data.Dataset.from_tensor_slices(daily_sales_numbers)\n",
    "tf_dataset2"
   ]
  },
  {
   "cell_type": "code",
   "execution_count": 17,
   "id": "bcd17b4d-2565-4551-bb24-0880f7ef262a",
   "metadata": {},
   "outputs": [
    {
     "name": "stdout",
     "output_type": "stream",
     "text": [
      "[1512 1584]\n",
      "[2448 2232]\n",
      "[2304 2232]\n"
     ]
    }
   ],
   "source": [
    "tf_dataset2=tf_dataset2.filter(lambda x:x>0).map(lambda y:y*72).shuffle(3).batch(2)\n",
    "\n",
    "for sales in tf_dataset2.as_numpy_iterator():\n",
    "    print(sales)"
   ]
  },
  {
   "cell_type": "code",
   "execution_count": 41,
   "id": "9fe763f4-8d52-4b61-b0d5-c4937d3b635d",
   "metadata": {},
   "outputs": [
    {
     "name": "stdout",
     "output_type": "stream",
     "text": [
      "b'PetImages\\\\cat\\\\0.jpg'\n",
      "b'PetImages\\\\cat\\\\1.jpg'\n",
      "b'PetImages\\\\cat\\\\10.jpg'\n",
      "b'PetImages\\\\cat\\\\100.jpg'\n",
      "b'PetImages\\\\cat\\\\101.jpg'\n"
     ]
    }
   ],
   "source": [
    "images_ds=tf.data.Dataset.list_files('PetImages/*/*',shuffle=False)\n",
    "\n",
    "for file in images_ds.take(5):\n",
    "    print(file.numpy())"
   ]
  },
  {
   "cell_type": "code",
   "execution_count": 42,
   "id": "29c323d8-2f9c-493d-8fc7-65357a3046fb",
   "metadata": {},
   "outputs": [
    {
     "name": "stdout",
     "output_type": "stream",
     "text": [
      "b'PetImages\\\\cat\\\\136.jpg'\n",
      "b'PetImages\\\\cat\\\\22.jpg'\n",
      "b'PetImages\\\\cat\\\\151.jpg'\n",
      "b'PetImages\\\\cat\\\\102.jpg'\n",
      "b'PetImages\\\\cat\\\\149.jpg'\n"
     ]
    }
   ],
   "source": [
    "images_ds=images_ds.shuffle(200)\n",
    "\n",
    "for file in images_ds.take(5):\n",
    "    print(file.numpy())"
   ]
  },
  {
   "cell_type": "code",
   "execution_count": 43,
   "id": "2c5367d4-8f6b-44ee-bb0a-ac511b83e0e7",
   "metadata": {},
   "outputs": [],
   "source": [
    "class_names=[\"cat\",\"dog\"]"
   ]
  },
  {
   "cell_type": "code",
   "execution_count": 44,
   "id": "dc043018-04cc-4449-a82e-812e65caa1a8",
   "metadata": {},
   "outputs": [
    {
     "data": {
      "text/plain": [
       "1000"
      ]
     },
     "execution_count": 44,
     "metadata": {},
     "output_type": "execute_result"
    }
   ],
   "source": [
    "image_count=len(images_ds)\n",
    "image_count"
   ]
  },
  {
   "cell_type": "code",
   "execution_count": 45,
   "id": "4e0e0429-49b6-4f68-8aaf-08e525df2d04",
   "metadata": {},
   "outputs": [],
   "source": [
    "train_size=int(image_count*0.8)\n",
    "train_ds=images_ds.take(train_size)\n",
    "\n",
    "#skip is opposite of take it will skip the first eighty percent of the images and take the remaining\n",
    "test_ds=images_ds.skip(train_size)"
   ]
  },
  {
   "cell_type": "code",
   "execution_count": 46,
   "id": "02056f48-0b97-4ccd-b1b3-c0512afa5225",
   "metadata": {},
   "outputs": [
    {
     "data": {
      "text/plain": [
       "800"
      ]
     },
     "execution_count": 46,
     "metadata": {},
     "output_type": "execute_result"
    }
   ],
   "source": [
    "len(train_ds)"
   ]
  },
  {
   "cell_type": "code",
   "execution_count": 47,
   "id": "674055e3-61b3-460b-b0c5-95df6eded3a5",
   "metadata": {},
   "outputs": [
    {
     "data": {
      "text/plain": [
       "200"
      ]
     },
     "execution_count": 47,
     "metadata": {},
     "output_type": "execute_result"
    }
   ],
   "source": [
    "len(test_ds)"
   ]
  },
  {
   "cell_type": "code",
   "execution_count": 48,
   "id": "b771b4a8-b160-4917-8b2e-8a17ac43ecb4",
   "metadata": {},
   "outputs": [
    {
     "name": "stdout",
     "output_type": "stream",
     "text": [
      "cat\n",
      "cat\n"
     ]
    }
   ],
   "source": [
    "s='PetImages\\\\cat\\\\0.jpg'\n",
    "\n",
    "print(s.split('\\\\')[1])\n",
    "print(s.split('\\\\')[-2])\n",
    "\n",
    "#last element is -1 so the previous element is -2 and so on"
   ]
  },
  {
   "cell_type": "code",
   "execution_count": 49,
   "id": "85c0ced5-298e-4851-b5e9-4d5a422ca094",
   "metadata": {},
   "outputs": [],
   "source": [
    "#convert the tensor to string and split \n",
    "def get_label(file_path):\n",
    "    import os\n",
    "    return tf.strings.split(file_path,os.path.sep)[-2]"
   ]
  },
  {
   "cell_type": "code",
   "execution_count": 50,
   "id": "1dbf82a7-b13d-4e82-ba27-5dd0495760d0",
   "metadata": {},
   "outputs": [],
   "source": [
    "def process_image(file_path):\n",
    "    label=get_label(file_path)\n",
    "    \n",
    "    img=tf.io.read_file(file_path)\n",
    "    img=tf.image.decode_jpeg(img)\n",
    "    img=tf.image.resize(img,[128,128])\n",
    "    \n",
    "    return img,label\n",
    "    "
   ]
  },
  {
   "cell_type": "code",
   "execution_count": 51,
   "id": "fcfbbe7e-bf8a-44d9-8f4d-a1c7fef51bd9",
   "metadata": {},
   "outputs": [
    {
     "name": "stdout",
     "output_type": "stream",
     "text": [
      "tf.Tensor(b'cat', shape=(), dtype=string)\n",
      "tf.Tensor(b'cat', shape=(), dtype=string)\n",
      "tf.Tensor(b'cat', shape=(), dtype=string)\n",
      "tf.Tensor(b'cat', shape=(), dtype=string)\n",
      "tf.Tensor(b'cat', shape=(), dtype=string)\n"
     ]
    }
   ],
   "source": [
    "for label in train_ds.map(get_label).take(5):\n",
    "    print(label)"
   ]
  },
  {
   "cell_type": "code",
   "execution_count": 52,
   "id": "43a707f3-99cd-412c-9661-bd411af950a6",
   "metadata": {},
   "outputs": [
    {
     "name": "stdout",
     "output_type": "stream",
     "text": [
      "image:  tf.Tensor(\n",
      "[[[ 13.035156  17.035156  16.035156]\n",
      "  [ 13.035156  17.035156  16.035156]\n",
      "  [ 13.521912  17.521912  16.521912]\n",
      "  ...\n",
      "  [ 11.769531  15.769531  14.769531]\n",
      "  [  8.696228  12.696228  11.696228]\n",
      "  [ 29.605469  29.605469  29.605469]]\n",
      "\n",
      " [[ 12.105469  16.105469  15.105469]\n",
      "  [ 12.105469  16.105469  15.105469]\n",
      "  [ 15.922546  19.922546  18.922546]\n",
      "  ...\n",
      "  [  8.734375  12.734375  11.734375]\n",
      "  [ 10.932434  14.932434  13.932434]\n",
      "  [ 28.53241   28.53241   28.53241 ]]\n",
      "\n",
      " [[ 11.175781  15.175781  14.175781]\n",
      "  [ 11.175781  15.175781  14.175781]\n",
      "  [ 13.394714  17.394714  16.394714]\n",
      "  ...\n",
      "  [  8.218933  12.218933  11.218933]\n",
      "  [  8.703796  12.703796  11.703796]\n",
      "  [ 29.463318  29.463318  29.463318]]\n",
      "\n",
      " ...\n",
      "\n",
      " [[136.05109  141.40265  147.75421 ]\n",
      "  [124.87244  130.224    136.44922 ]\n",
      "  [125.206116 130.60437  136.4643  ]\n",
      "  ...\n",
      "  [143.91016  147.91016  157.00354 ]\n",
      "  [148.31293  152.31293  161.31293 ]\n",
      "  [144.34003  149.98846  162.8103  ]]\n",
      "\n",
      " [[124.668884 131.66888  140.76263 ]\n",
      "  [136.62732  143.62732  150.90857 ]\n",
      "  [135.90948  143.17511  148.37823 ]\n",
      "  ...\n",
      "  [136.51361  140.51361  150.04486 ]\n",
      "  [151.68127  155.68127  164.68127 ]\n",
      "  [133.72473  137.72473  148.72473 ]]\n",
      "\n",
      " [[142.12378  149.12378  158.21753 ]\n",
      "  [149.0758   156.0758   163.35706 ]\n",
      "  [142.31946  149.58508  154.78821 ]\n",
      "  ...\n",
      "  [150.12567  154.12567  163.65692 ]\n",
      "  [144.97473  148.97473  157.97473 ]\n",
      "  [141.6875   145.6875   157.6875  ]]], shape=(128, 128, 3), dtype=float32)\n",
      "label:  tf.Tensor(b'cat', shape=(), dtype=string)\n",
      "image:  tf.Tensor(\n",
      "[[[ 25.453125  25.453125  25.453125]\n",
      "  [ 27.618103  27.618103  27.618103]\n",
      "  [ 27.230469  27.230469  27.230469]\n",
      "  ...\n",
      "  [ 15.        19.        21.46875 ]\n",
      "  [ 15.        19.        22.      ]\n",
      "  [ 69.65625   64.65625   58.65625 ]]\n",
      "\n",
      " [[ 26.453125  26.453125  26.453125]\n",
      "  [ 28.57306   28.57306   28.57306 ]\n",
      "  [ 29.160156  29.160156  29.160156]\n",
      "  ...\n",
      "  [ 15.        19.        21.46875 ]\n",
      "  [ 15.        19.        22.      ]\n",
      "  [ 65.28424   60.28424   54.28424 ]]\n",
      "\n",
      " [[ 27.453125  27.453125  27.453125]\n",
      "  [ 29.        29.        29.      ]\n",
      "  [ 30.265625  30.265625  30.265625]\n",
      "  ...\n",
      "  [ 15.        19.        21.46875 ]\n",
      "  [ 15.        19.        22.      ]\n",
      "  [ 67.21332   62.213318  56.213318]]\n",
      "\n",
      " ...\n",
      "\n",
      " [[ 86.56366  101.56366   98.2121  ]\n",
      "  [ 77.31494   92.31494   88.96338 ]\n",
      "  [ 85.26416  100.26416   96.9126  ]\n",
      "  ...\n",
      "  [ 77.43341   88.554504  77.43341 ]\n",
      "  [ 93.74408  104.39252   99.03192 ]\n",
      "  [ 90.4978    98.87433   97.59155 ]]\n",
      "\n",
      " [[ 90.954285 105.954285 100.954285]\n",
      "  [ 73.521545  88.521545  83.521545]\n",
      "  [ 75.964294  90.964294  85.964294]\n",
      "  ...\n",
      "  [ 77.695984  82.695984  78.695984]\n",
      "  [ 69.03125   76.953125  72.3125  ]\n",
      "  [ 95.784485  99.784485 100.57355 ]]\n",
      "\n",
      " [[ 69.42792   84.42792   79.42792 ]\n",
      "  [ 40.14569   55.14569   50.14569 ]\n",
      "  [ 60.203125  75.203125  70.203125]\n",
      "  ...\n",
      "  [ 81.22656   86.22656   80.22656 ]\n",
      "  [ 57.46991   66.391785  58.728638]\n",
      "  [ 98.33563  103.33563   97.300476]]], shape=(128, 128, 3), dtype=float32)\n",
      "label:  tf.Tensor(b'cat', shape=(), dtype=string)\n",
      "image:  tf.Tensor(\n",
      "[[[ 96.        95.        91.      ]\n",
      "  [ 96.        95.        91.      ]\n",
      "  [ 96.        95.        91.      ]\n",
      "  ...\n",
      "  [ 88.        76.        80.      ]\n",
      "  [ 88.15796   76.15796   80.15796 ]\n",
      "  [ 88.453125  76.453125  80.453125]]\n",
      "\n",
      " [[ 96.        95.        91.      ]\n",
      "  [ 96.        95.        91.      ]\n",
      "  [ 96.        95.        91.      ]\n",
      "  ...\n",
      "  [ 88.        76.        80.      ]\n",
      "  [ 88.08325   76.08325   80.08325 ]\n",
      "  [ 88.359375  76.359375  80.359375]]\n",
      "\n",
      " [[ 97.        96.        92.      ]\n",
      "  [ 97.        96.        92.      ]\n",
      "  [ 97.        96.        92.      ]\n",
      "  ...\n",
      "  [ 88.        76.        80.      ]\n",
      "  [ 90.390625  78.390625  82.390625]\n",
      "  [ 91.        79.        83.      ]]\n",
      "\n",
      " ...\n",
      "\n",
      " [[ 82.41382   67.803955  74.272705]\n",
      "  [114.061035  96.45166  106.85791 ]\n",
      "  [118.75659   95.39966  112.921875]\n",
      "  ...\n",
      "  [151.82568  114.81006  139.48193 ]\n",
      "  [151.3977   117.19458  141.19458 ]\n",
      "  [142.4768   111.27368  134.00806 ]]\n",
      "\n",
      " [[ 81.388916  71.02954   79.02954 ]\n",
      "  [ 99.65137   86.302246  96.91162 ]\n",
      "  [ 98.66333   81.51416   96.647705]\n",
      "  ...\n",
      "  [159.29126  122.275635 146.94751 ]\n",
      "  [155.17188  120.96875  144.96875 ]\n",
      "  [141.125    109.921875 132.65625 ]]\n",
      "\n",
      " [[ 69.09839   53.09839   63.09839 ]\n",
      "  [ 88.420166  72.420166  82.420166]\n",
      "  [ 86.27368   70.27368   80.27368 ]\n",
      "  ...\n",
      "  [162.6875   120.671875 147.34375 ]\n",
      "  [156.56421  118.15796  143.36108 ]\n",
      "  [140.125    105.125    129.125   ]]], shape=(128, 128, 3), dtype=float32)\n",
      "label:  tf.Tensor(b'cat', shape=(), dtype=string)\n"
     ]
    }
   ],
   "source": [
    "train_ds=train_ds.map(process_image)\n",
    "for img,label in train_ds.take(3):\n",
    "    print(\"image: \",img)\n",
    "    print(\"label: \",label)"
   ]
  },
  {
   "cell_type": "code",
   "execution_count": 39,
   "id": "6a0f25af-4f9e-4e10-8c6a-944ff8641847",
   "metadata": {},
   "outputs": [],
   "source": [
    "def scale(image,label):\n",
    "    return image/255,label"
   ]
  },
  {
   "cell_type": "code",
   "execution_count": 53,
   "id": "57a65e24-622c-4ada-be51-3fc1f60860aa",
   "metadata": {},
   "outputs": [
    {
     "name": "stdout",
     "output_type": "stream",
     "text": [
      "image:  [0.12783562 0.10822778 0.0925415 ]\n",
      "label:  b'cat'\n",
      "image:  [0.5416219  0.55110055 0.55709136]\n",
      "label:  b'cat'\n",
      "image:  [0.3985141 0.3710631 0.3031403]\n",
      "label:  b'cat'\n",
      "image:  [0.5514694  0.54362625 0.49264586]\n",
      "label:  b'cat'\n",
      "image:  [0.02903694 0.11175752 0.25673062]\n",
      "label:  b'cat'\n"
     ]
    }
   ],
   "source": [
    "train_ds=train_ds.map(scale)\n",
    "\n",
    "for image,label in train_ds.take(5):\n",
    "    print(\"image: \",image.numpy()[0][0])\n",
    "    print(\"label: \",label.numpy())"
   ]
  },
  {
   "cell_type": "code",
   "execution_count": null,
   "id": "f52679a7-3d4b-4d4a-968e-0829313ebb50",
   "metadata": {},
   "outputs": [],
   "source": []
  }
 ],
 "metadata": {
  "kernelspec": {
   "display_name": "Python 3 (ipykernel)",
   "language": "python",
   "name": "python3"
  },
  "language_info": {
   "codemirror_mode": {
    "name": "ipython",
    "version": 3
   },
   "file_extension": ".py",
   "mimetype": "text/x-python",
   "name": "python",
   "nbconvert_exporter": "python",
   "pygments_lexer": "ipython3",
   "version": "3.10.2"
  }
 },
 "nbformat": 4,
 "nbformat_minor": 5
}
